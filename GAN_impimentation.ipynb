{
 "cells": [
  {
   "cell_type": "code",
   "execution_count": 1,
   "metadata": {},
   "outputs": [],
   "source": [
    "import tensorflow as tf \n",
    "from tensorflow.keras.layers import *\n",
    "from tensorflow.keras.models import Model\n",
    "import numpy as np \n",
    "from matplotlib import pyplot as plt\n"
   ]
  },
  {
   "cell_type": "code",
   "execution_count": 11,
   "metadata": {},
   "outputs": [],
   "source": [
    "latent_dim = 20\n",
    "## data augmentation model\n",
    "da_input = Input(shape=(512,256,3))\n",
    "x = RandomCrop(256,256)(da_input)\n",
    "x = RandomFlip()(x)\n",
    "x = RandomRotation(factor = ((0.4)),fill_mode = \"reflect\")(x)\n",
    "x = RandomZoom(0.2,0.2)(x)\n",
    "da_model = Model(da_input,x)\n",
    "\n",
    "## generative model \n",
    "gen_input = Input(shape = (latent_dim))\n",
    "x = Dense(8*8*8)(gen_input)\n",
    "x = Reshape((8,8,8))(x)\n",
    "x = Conv2DTranspose(16,(4,4),strides = 2 ,activation = 'linear',padding = 'same')(x)\n",
    "x = LeakyReLU(alpha = 0.1)(x)\n",
    "x = Conv2DTranspose(32,(4,4),strides = 2 ,activation = 'linear',padding = 'same')(x)\n",
    "x = LeakyReLU(alpha = 0.1)(x)\n",
    "x = Conv2DTranspose(64,(4,4),strides = 2 ,activation = 'linear',padding = 'same')(x)\n",
    "x = LeakyReLU(alpha = 0.1)(x)\n",
    "x = Conv2DTranspose(128,(4,4),strides = 2 ,activation = 'linear',padding = 'same')(x)\n",
    "x = LeakyReLU(alpha = 0.1)(x)\n",
    "x = Conv2DTranspose(256,(4,4),strides = 2 ,activation = 'linear',padding = 'same')(x)\n",
    "x = LeakyReLU(alpha = 0.1)(x)\n",
    "x = Conv2DTranspose(512,(4,4),strides = 1 ,activation = 'linear',padding = 'same')(x)\n",
    "x = LeakyReLU(alpha = 0.1)(x)\n",
    "x = Conv2DTranspose(3,(5,5),strides = 1 ,activation = 'relu',padding = 'same')(x)\n",
    "gen_model = Model(gen_input,x)\n",
    "\n",
    "# discriminator model\n",
    "dis_input = Input((256,256,3))\n",
    "x = Conv2D(512,kernel_size = 4,activation = 'relu',strides = 2,padding = 'same')(dis_input)\n",
    "x = LeakyReLU(alpha = 0.2)(x)\n",
    "x = Conv2D(256,kernel_size = 4,activation = 'relu',strides = 2,padding = 'same')(x)\n",
    "x = LeakyReLU(alpha = 0.2)(x)\n",
    "x = Conv2D(128,kernel_size = 4,activation = 'relu',strides = 2,padding = 'same')(x)\n",
    "x = LeakyReLU(alpha = 0.2)(x)\n",
    "x = Conv2D(64,kernel_size = 4,activation = 'relu',strides  = 2,padding = 'same')(x)\n",
    "x = LeakyReLU(alpha = 0.2)(x)\n",
    "x = Conv2D(32,kernel_size = 4,activation = 'relu',strides  = 2,padding = 'same')(x)\n",
    "x = LeakyReLU(alpha = 0.2)(x)\n",
    "x = Conv2D(16,kernel_size = 4,activation = 'relu',strides  = 2,padding = 'same')(x)\n",
    "x = Flatten()(x)\n",
    "x = Dropout(0.3)(x)\n",
    "x = Dense(1,activation = 'sigmoid')(x)\n",
    "dis_model = Model(dis_input,x)"
   ]
  },
  {
   "cell_type": "code",
   "execution_count": 1,
   "metadata": {},
   "outputs": [
    {
     "ename": "NameError",
     "evalue": "name 'tf' is not defined",
     "output_type": "error",
     "traceback": [
      "\u001b[1;31m---------------------------------------------------------------------------\u001b[0m",
      "\u001b[1;31mNameError\u001b[0m                                 Traceback (most recent call last)",
      "Cell \u001b[1;32mIn[1], line 1\u001b[0m\n\u001b[1;32m----> 1\u001b[0m \u001b[39mclass\u001b[39;00m \u001b[39mGAN\u001b[39;00m(tf\u001b[39m.\u001b[39mkeras\u001b[39m.\u001b[39mModel):\n\u001b[0;32m      2\u001b[0m     \u001b[39mdef\u001b[39;00m \u001b[39m__init__\u001b[39m(\u001b[39mself\u001b[39m,da,gen,dis, \u001b[39m*\u001b[39m\u001b[39m*\u001b[39mkwargs):\n\u001b[0;32m      3\u001b[0m         \u001b[39msuper\u001b[39m()\u001b[39m.\u001b[39m\u001b[39m__init__\u001b[39m(\u001b[39m*\u001b[39m\u001b[39m*\u001b[39mkwargs)\n",
      "\u001b[1;31mNameError\u001b[0m: name 'tf' is not defined"
     ]
    }
   ],
   "source": [
    "class GAN(tf.keras.Model):\n",
    "    def __init__(self,da,gen,dis, **kwargs):\n",
    "        super().__init__(**kwargs)\n",
    "        self.da = da\n",
    "        self.gen = gen\n",
    "        self.dis = dis\n",
    "        self.dis_loss_tracker = tf.keras.metrics.Mean(name='dis_loss')\n",
    "        self.gen_loss_tracker = tf.keras.metrics.Mean(name='gen_loss')\n",
    "    @property\n",
    "    def metrics(self):\n",
    "        return [self.dis_loss_tracker,\n",
    "                self.gen_loss_tracker]\n",
    "    \n",
    "    def train_step(self, data):\n",
    "        batch_size = tf.shape(data)[0]\n",
    "        random_in  = tf.random.normal(shape = (batch_size,latent_dim))\n",
    "        fake_genrated = self.da(random_in)\n",
    "        augmented_images = self.da(data)\n",
    "        whole_images = np.concatenate((augmented_images,fake_genrated),axis=0)\n",
    "        labels = np.concatenate((np.ones(batch_size,1),np.zeros(shape=(batch_size,1))),axis=0)\n",
    "\n",
    "        with tf.GradientTape() as tape:\n",
    "            pred = self.dis(whole_images)\n",
    "            dis_loss = tf.keras.losses.binary_crossentropy(labels,pred)\n",
    "        grads = tape.gradient(dis_loss,self.dis.trainable_weights)\n",
    "        self.optimizer.apply_gradients(zip(grads, self.dis.trainable_weights))\n",
    "        self.dis_loss_tracker.update_state(dis_loss)\n",
    "\n",
    "        random_latent_vectors = tf.random.normal(\n",
    "                                                shape=(batch_size,latent_dim))\n",
    "        misleading_labels = tf.zeros((batch_size, 1))\n",
    "        with tf.GradientTape() as tape:\n",
    "            out = self.dis(self.gen(random_latent_vectors))\n",
    "            gen_loss = tf.keras.losses.binary_crossentropy(misleading_labels,out)\n",
    "        grads = tape.gradient(gen_loss,self.gen.trainable_weights)\n",
    "        self.optimizer.apply_gradients(zip(grads, self.dis.trainable_weights))\n",
    "        self.gen_loss_tracker.update_state(gen_loss)\n",
    "\n",
    "        return {'dis_loss': self.dis_loss_tracker.result(),\n",
    "                'gen_loss': self.gen_loss_tracker.result(),\n",
    "                } \n"
   ]
  }
 ],
 "metadata": {
  "kernelspec": {
   "display_name": "Python 3",
   "language": "python",
   "name": "python3"
  },
  "language_info": {
   "codemirror_mode": {
    "name": "ipython",
    "version": 3
   },
   "file_extension": ".py",
   "mimetype": "text/x-python",
   "name": "python",
   "nbconvert_exporter": "python",
   "pygments_lexer": "ipython3",
   "version": "3.8.10"
  },
  "orig_nbformat": 4
 },
 "nbformat": 4,
 "nbformat_minor": 2
}
