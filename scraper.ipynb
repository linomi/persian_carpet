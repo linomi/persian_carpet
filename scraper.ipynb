{
  "nbformat": 4,
  "nbformat_minor": 0,
  "metadata": {
    "colab": {
      "provenance": [],
      "authorship_tag": "ABX9TyPrsTUHPvaoZfOAfnA9WSHa",
      "include_colab_link": true
    },
    "kernelspec": {
      "name": "python3",
      "display_name": "Python 3"
    },
    "language_info": {
      "name": "python"
    }
  },
  "cells": [
    {
      "cell_type": "markdown",
      "metadata": {
        "id": "view-in-github",
        "colab_type": "text"
      },
      "source": [
        "<a href=\"https://colab.research.google.com/github/linomi/persian_carpet/blob/main/scraper.ipynb\" target=\"_parent\"><img src=\"https://colab.research.google.com/assets/colab-badge.svg\" alt=\"Open In Colab\"/></a>"
      ]
    },
    {
      "cell_type": "code",
      "execution_count": null,
      "metadata": {
        "id": "2HSm2uWyqdlh"
      },
      "outputs": [],
      "source": [
        "#scraping data\n",
        "from bs4 import BeautifulSoup\n",
        "import requests\n",
        "import os\n",
        "# reslving some issue with 403 respond\n",
        "headers = {\n",
        "    \"User-Agent\": \"Mozilla/5.0 (Windows NT 10.0; Win64; x64) AppleWebKit/537.36 (KHTML, like Gecko) Chrome/91.0.4472.124 Safari/537.36\"\n",
        "}\n",
        "session = requests.Session()\n",
        "s = 0\n",
        "# path u would like to save your pics\n",
        "path = '/content/drive/MyDrive/data/'\n",
        "for j in range(1,43):\n",
        "    url = \"https://www.ecarpetgallery.com/us_en/persian-rugs/?p=\"+str(j)\n",
        "    response = session.get(url, headers=headers)\n",
        "    soup = BeautifulSoup(response.content, \"html.parser\")\n",
        "\n",
        "    image_tags = soup.find_all(\"img\")\n",
        "    for i,image_tag in enumerate(image_tags):\n",
        "        if 'class' in image_tag.attrs and ( 'img-thumbnail' in image_tag['class'] ):\n",
        "            image_url = image_tag[\"src\"]\n",
        "            image_response = requests.get(image_url,headers = headers)\n",
        "            image_data = image_response.content\n",
        "            with open(+ str(s) +'.jpg', \"wb\") as f:\n",
        "                f.write(image_data)\n",
        "            s +=1\n",
        "            print(s)"
      ]
    }
  ]
}