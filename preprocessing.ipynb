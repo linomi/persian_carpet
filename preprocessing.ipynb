{
 "cells": [
  {
   "cell_type": "code",
   "execution_count": 9,
   "metadata": {},
   "outputs": [],
   "source": [
    "from PIL import Image\n",
    "from skimage.io import imread\n",
    "from skimage.morphology import convex_hull_image\n",
    "from skimage.color import rgb2gray\n",
    "from matplotlib import pyplot as plt\n",
    "import numpy as np \n",
    "pic_dir_list = [\"data/{}.jpg\".format(x) for x in range(1,1819)]\n"
   ]
  },
  {
   "cell_type": "code",
   "execution_count": 12,
   "metadata": {},
   "outputs": [
    {
     "name": "stderr",
     "output_type": "stream",
     "text": [
      "C:\\Users\\Mohammad reza\\AppData\\Local\\Temp\\ipykernel_20420\\60665511.py:8: UserWarning: Input image is entirely zero, no valid convex hull. Returning empty image\n",
      "  chull = convex_hull_image(im1)\n"
     ]
    },
    {
     "ename": "ValueError",
     "evalue": "the input array must have size 3 along `channel_axis`, got (667, 500, 4)",
     "output_type": "error",
     "traceback": [
      "\u001b[1;31m---------------------------------------------------------------------------\u001b[0m",
      "\u001b[1;31mValueError\u001b[0m                                Traceback (most recent call last)",
      "Cell \u001b[1;32mIn[12], line 4\u001b[0m\n\u001b[0;32m      1\u001b[0m \u001b[39mfor\u001b[39;00m path \u001b[39min\u001b[39;00m pic_dir_list: \n\u001b[0;32m      2\u001b[0m     \u001b[39m# create a binary image\u001b[39;00m\n\u001b[0;32m      3\u001b[0m     im \u001b[39m=\u001b[39m imread(path)\n\u001b[1;32m----> 4\u001b[0m     im1 \u001b[39m=\u001b[39m \u001b[39m1\u001b[39m \u001b[39m-\u001b[39m rgb2gray(im)\n\u001b[0;32m      5\u001b[0m     threshold \u001b[39m=\u001b[39m \u001b[39m0.5\u001b[39m\n\u001b[0;32m      6\u001b[0m     im1[im1 \u001b[39m<\u001b[39m\u001b[39m=\u001b[39m threshold] \u001b[39m=\u001b[39m \u001b[39m0\u001b[39m\n",
      "File \u001b[1;32mc:\\Users\\Mohammad reza\\AppData\\Local\\Programs\\Python\\Python38\\lib\\site-packages\\skimage\\_shared\\utils.py:326\u001b[0m, in \u001b[0;36mchannel_as_last_axis.__call__.<locals>.fixed_func\u001b[1;34m(*args, **kwargs)\u001b[0m\n\u001b[0;32m    323\u001b[0m channel_axis \u001b[39m=\u001b[39m kwargs\u001b[39m.\u001b[39mget(\u001b[39m'\u001b[39m\u001b[39mchannel_axis\u001b[39m\u001b[39m'\u001b[39m, \u001b[39mNone\u001b[39;00m)\n\u001b[0;32m    325\u001b[0m \u001b[39mif\u001b[39;00m channel_axis \u001b[39mis\u001b[39;00m \u001b[39mNone\u001b[39;00m:\n\u001b[1;32m--> 326\u001b[0m     \u001b[39mreturn\u001b[39;00m func(\u001b[39m*\u001b[39;49margs, \u001b[39m*\u001b[39;49m\u001b[39m*\u001b[39;49mkwargs)\n\u001b[0;32m    328\u001b[0m \u001b[39m# TODO: convert scalars to a tuple in anticipation of eventually\u001b[39;00m\n\u001b[0;32m    329\u001b[0m \u001b[39m#       supporting a tuple of channel axes. Right now, only an\u001b[39;00m\n\u001b[0;32m    330\u001b[0m \u001b[39m#       integer or a single-element tuple is supported, though.\u001b[39;00m\n\u001b[0;32m    331\u001b[0m \u001b[39mif\u001b[39;00m np\u001b[39m.\u001b[39misscalar(channel_axis):\n",
      "File \u001b[1;32mc:\\Users\\Mohammad reza\\AppData\\Local\\Programs\\Python\\Python38\\lib\\site-packages\\skimage\\color\\colorconv.py:875\u001b[0m, in \u001b[0;36mrgb2gray\u001b[1;34m(rgb, channel_axis)\u001b[0m\n\u001b[0;32m    834\u001b[0m \u001b[39m@channel_as_last_axis\u001b[39m(multichannel_output\u001b[39m=\u001b[39m\u001b[39mFalse\u001b[39;00m)\n\u001b[0;32m    835\u001b[0m \u001b[39mdef\u001b[39;00m \u001b[39mrgb2gray\u001b[39m(rgb, \u001b[39m*\u001b[39m, channel_axis\u001b[39m=\u001b[39m\u001b[39m-\u001b[39m\u001b[39m1\u001b[39m):\n\u001b[0;32m    836\u001b[0m \u001b[39m    \u001b[39m\u001b[39m\"\"\"Compute luminance of an RGB image.\u001b[39;00m\n\u001b[0;32m    837\u001b[0m \n\u001b[0;32m    838\u001b[0m \u001b[39m    Parameters\u001b[39;00m\n\u001b[1;32m   (...)\u001b[0m\n\u001b[0;32m    873\u001b[0m \u001b[39m    >>> img_gray = rgb2gray(img)\u001b[39;00m\n\u001b[0;32m    874\u001b[0m \u001b[39m    \"\"\"\u001b[39;00m\n\u001b[1;32m--> 875\u001b[0m     rgb \u001b[39m=\u001b[39m _prepare_colorarray(rgb)\n\u001b[0;32m    876\u001b[0m     coeffs \u001b[39m=\u001b[39m np\u001b[39m.\u001b[39marray([\u001b[39m0.2125\u001b[39m, \u001b[39m0.7154\u001b[39m, \u001b[39m0.0721\u001b[39m], dtype\u001b[39m=\u001b[39mrgb\u001b[39m.\u001b[39mdtype)\n\u001b[0;32m    877\u001b[0m     \u001b[39mreturn\u001b[39;00m rgb \u001b[39m@\u001b[39m coeffs\n",
      "File \u001b[1;32mc:\\Users\\Mohammad reza\\AppData\\Local\\Programs\\Python\\Python38\\lib\\site-packages\\skimage\\color\\colorconv.py:140\u001b[0m, in \u001b[0;36m_prepare_colorarray\u001b[1;34m(arr, force_copy, channel_axis)\u001b[0m\n\u001b[0;32m    137\u001b[0m \u001b[39mif\u001b[39;00m arr\u001b[39m.\u001b[39mshape[channel_axis] \u001b[39m!=\u001b[39m \u001b[39m3\u001b[39m:\n\u001b[0;32m    138\u001b[0m     msg \u001b[39m=\u001b[39m (\u001b[39mf\u001b[39m\u001b[39m'\u001b[39m\u001b[39mthe input array must have size 3 along `channel_axis`, \u001b[39m\u001b[39m'\u001b[39m\n\u001b[0;32m    139\u001b[0m            \u001b[39mf\u001b[39m\u001b[39m'\u001b[39m\u001b[39mgot \u001b[39m\u001b[39m{\u001b[39;00marr\u001b[39m.\u001b[39mshape\u001b[39m}\u001b[39;00m\u001b[39m'\u001b[39m)\n\u001b[1;32m--> 140\u001b[0m     \u001b[39mraise\u001b[39;00m \u001b[39mValueError\u001b[39;00m(msg)\n\u001b[0;32m    142\u001b[0m float_dtype \u001b[39m=\u001b[39m _supported_float_type(arr\u001b[39m.\u001b[39mdtype)\n\u001b[0;32m    143\u001b[0m \u001b[39mif\u001b[39;00m float_dtype \u001b[39m==\u001b[39m np\u001b[39m.\u001b[39mfloat32:\n",
      "\u001b[1;31mValueError\u001b[0m: the input array must have size 3 along `channel_axis`, got (667, 500, 4)"
     ]
    }
   ],
   "source": [
    "\n",
    "for path in pic_dir_list: \n",
    "    # create a binary image\n",
    "    im = imread(path)\n",
    "    im1 = 1 - rgb2gray(im)\n",
    "    threshold = 0.5\n",
    "    im1[im1 <= threshold] = 0\n",
    "    im1[im1 > threshold] = 1\n",
    "    chull = convex_hull_image(im1)\n",
    "    imageBox = Image.fromarray((chull*255).astype(np.uint8)).getbbox()\n",
    "    cropped = Image.fromarray(im).crop(imageBox)\n",
    "    cropped.save(path)\n"
   ]
  }
 ],
 "metadata": {
  "kernelspec": {
   "display_name": "Python 3",
   "language": "python",
   "name": "python3"
  },
  "language_info": {
   "codemirror_mode": {
    "name": "ipython",
    "version": 3
   },
   "file_extension": ".py",
   "mimetype": "text/x-python",
   "name": "python",
   "nbconvert_exporter": "python",
   "pygments_lexer": "ipython3",
   "version": "3.8.10"
  },
  "orig_nbformat": 4
 },
 "nbformat": 4,
 "nbformat_minor": 2
}
