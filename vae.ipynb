{
  "nbformat": 4,
  "nbformat_minor": 0,
  "metadata": {
    "colab": {
      "provenance": [],
      "gpuType": "T4",
      "mount_file_id": "13a5dJjY0SC3CRqF4by2kKB9-i665hzVf",
      "authorship_tag": "ABX9TyOoBFVgz+af+y2ZjmHRmoUV",
      "include_colab_link": true
    },
    "kernelspec": {
      "name": "python3",
      "display_name": "Python 3"
    },
    "language_info": {
      "name": "python"
    },
    "accelerator": "GPU",
    "widgets": {
      "application/vnd.jupyter.widget-state+json": {
        "8fc6fe9e5a3f49e8bf29c52963c3619b": {
          "model_module": "@jupyter-widgets/controls",
          "model_name": "FloatSliderModel",
          "model_module_version": "1.5.0",
          "state": {
            "_dom_classes": [],
            "_model_module": "@jupyter-widgets/controls",
            "_model_module_version": "1.5.0",
            "_model_name": "FloatSliderModel",
            "_view_count": null,
            "_view_module": "@jupyter-widgets/controls",
            "_view_module_version": "1.5.0",
            "_view_name": "FloatSliderView",
            "continuous_update": false,
            "description": "dimension1",
            "description_tooltip": null,
            "disabled": false,
            "layout": "IPY_MODEL_0ed037b3bc644e11b39f0cb1943e4fcf",
            "max": 3,
            "min": -3,
            "orientation": "horizontal",
            "readout": true,
            "readout_format": ".6f",
            "step": 0.01,
            "style": "IPY_MODEL_2f73f50f3d344c42801df17b77964cfa",
            "value": -1.85
          }
        },
        "0ed037b3bc644e11b39f0cb1943e4fcf": {
          "model_module": "@jupyter-widgets/base",
          "model_name": "LayoutModel",
          "model_module_version": "1.2.0",
          "state": {
            "_model_module": "@jupyter-widgets/base",
            "_model_module_version": "1.2.0",
            "_model_name": "LayoutModel",
            "_view_count": null,
            "_view_module": "@jupyter-widgets/base",
            "_view_module_version": "1.2.0",
            "_view_name": "LayoutView",
            "align_content": null,
            "align_items": null,
            "align_self": null,
            "border": null,
            "bottom": null,
            "display": null,
            "flex": null,
            "flex_flow": null,
            "grid_area": null,
            "grid_auto_columns": null,
            "grid_auto_flow": null,
            "grid_auto_rows": null,
            "grid_column": null,
            "grid_gap": null,
            "grid_row": null,
            "grid_template_areas": null,
            "grid_template_columns": null,
            "grid_template_rows": null,
            "height": null,
            "justify_content": null,
            "justify_items": null,
            "left": null,
            "margin": null,
            "max_height": null,
            "max_width": null,
            "min_height": null,
            "min_width": null,
            "object_fit": null,
            "object_position": null,
            "order": null,
            "overflow": null,
            "overflow_x": null,
            "overflow_y": null,
            "padding": null,
            "right": null,
            "top": null,
            "visibility": null,
            "width": "80%"
          }
        },
        "2f73f50f3d344c42801df17b77964cfa": {
          "model_module": "@jupyter-widgets/controls",
          "model_name": "SliderStyleModel",
          "model_module_version": "1.5.0",
          "state": {
            "_model_module": "@jupyter-widgets/controls",
            "_model_module_version": "1.5.0",
            "_model_name": "SliderStyleModel",
            "_view_count": null,
            "_view_module": "@jupyter-widgets/base",
            "_view_module_version": "1.2.0",
            "_view_name": "StyleView",
            "description_width": "",
            "handle_color": null
          }
        },
        "6f784a3a908e4cd1b034fb21bc665800": {
          "model_module": "@jupyter-widgets/controls",
          "model_name": "FloatSliderModel",
          "model_module_version": "1.5.0",
          "state": {
            "_dom_classes": [],
            "_model_module": "@jupyter-widgets/controls",
            "_model_module_version": "1.5.0",
            "_model_name": "FloatSliderModel",
            "_view_count": null,
            "_view_module": "@jupyter-widgets/controls",
            "_view_module_version": "1.5.0",
            "_view_name": "FloatSliderView",
            "continuous_update": false,
            "description": "dimension2",
            "description_tooltip": null,
            "disabled": false,
            "layout": "IPY_MODEL_289bde098993475c8c7b5037a9ec9548",
            "max": 3,
            "min": -3,
            "orientation": "horizontal",
            "readout": true,
            "readout_format": ".6f",
            "step": 0.01,
            "style": "IPY_MODEL_04f5d9c8f7954861b22dc27ff189e5f5",
            "value": 2.44
          }
        },
        "289bde098993475c8c7b5037a9ec9548": {
          "model_module": "@jupyter-widgets/base",
          "model_name": "LayoutModel",
          "model_module_version": "1.2.0",
          "state": {
            "_model_module": "@jupyter-widgets/base",
            "_model_module_version": "1.2.0",
            "_model_name": "LayoutModel",
            "_view_count": null,
            "_view_module": "@jupyter-widgets/base",
            "_view_module_version": "1.2.0",
            "_view_name": "LayoutView",
            "align_content": null,
            "align_items": null,
            "align_self": null,
            "border": null,
            "bottom": null,
            "display": null,
            "flex": null,
            "flex_flow": null,
            "grid_area": null,
            "grid_auto_columns": null,
            "grid_auto_flow": null,
            "grid_auto_rows": null,
            "grid_column": null,
            "grid_gap": null,
            "grid_row": null,
            "grid_template_areas": null,
            "grid_template_columns": null,
            "grid_template_rows": null,
            "height": null,
            "justify_content": null,
            "justify_items": null,
            "left": null,
            "margin": null,
            "max_height": null,
            "max_width": null,
            "min_height": null,
            "min_width": null,
            "object_fit": null,
            "object_position": null,
            "order": null,
            "overflow": null,
            "overflow_x": null,
            "overflow_y": null,
            "padding": null,
            "right": null,
            "top": null,
            "visibility": null,
            "width": "80%"
          }
        },
        "04f5d9c8f7954861b22dc27ff189e5f5": {
          "model_module": "@jupyter-widgets/controls",
          "model_name": "SliderStyleModel",
          "model_module_version": "1.5.0",
          "state": {
            "_model_module": "@jupyter-widgets/controls",
            "_model_module_version": "1.5.0",
            "_model_name": "SliderStyleModel",
            "_view_count": null,
            "_view_module": "@jupyter-widgets/base",
            "_view_module_version": "1.2.0",
            "_view_name": "StyleView",
            "description_width": "",
            "handle_color": null
          }
        },
        "4c18b7d8e87e490d8fa7f7879aca39d7": {
          "model_module": "@jupyter-widgets/controls",
          "model_name": "ButtonModel",
          "model_module_version": "1.5.0",
          "state": {
            "_dom_classes": [],
            "_model_module": "@jupyter-widgets/controls",
            "_model_module_version": "1.5.0",
            "_model_name": "ButtonModel",
            "_view_count": null,
            "_view_module": "@jupyter-widgets/controls",
            "_view_module_version": "1.5.0",
            "_view_name": "ButtonView",
            "button_style": "",
            "description": "Execute",
            "disabled": false,
            "icon": "",
            "layout": "IPY_MODEL_50040b624d724d919b5a477b56e2363c",
            "style": "IPY_MODEL_2055c45efcf646a3ae5d51a3330ae725",
            "tooltip": ""
          }
        },
        "50040b624d724d919b5a477b56e2363c": {
          "model_module": "@jupyter-widgets/base",
          "model_name": "LayoutModel",
          "model_module_version": "1.2.0",
          "state": {
            "_model_module": "@jupyter-widgets/base",
            "_model_module_version": "1.2.0",
            "_model_name": "LayoutModel",
            "_view_count": null,
            "_view_module": "@jupyter-widgets/base",
            "_view_module_version": "1.2.0",
            "_view_name": "LayoutView",
            "align_content": null,
            "align_items": null,
            "align_self": null,
            "border": null,
            "bottom": null,
            "display": null,
            "flex": null,
            "flex_flow": null,
            "grid_area": null,
            "grid_auto_columns": null,
            "grid_auto_flow": null,
            "grid_auto_rows": null,
            "grid_column": null,
            "grid_gap": null,
            "grid_row": null,
            "grid_template_areas": null,
            "grid_template_columns": null,
            "grid_template_rows": null,
            "height": null,
            "justify_content": null,
            "justify_items": null,
            "left": null,
            "margin": null,
            "max_height": null,
            "max_width": null,
            "min_height": null,
            "min_width": null,
            "object_fit": null,
            "object_position": null,
            "order": null,
            "overflow": null,
            "overflow_x": null,
            "overflow_y": null,
            "padding": null,
            "right": null,
            "top": null,
            "visibility": null,
            "width": null
          }
        },
        "2055c45efcf646a3ae5d51a3330ae725": {
          "model_module": "@jupyter-widgets/controls",
          "model_name": "ButtonStyleModel",
          "model_module_version": "1.5.0",
          "state": {
            "_model_module": "@jupyter-widgets/controls",
            "_model_module_version": "1.5.0",
            "_model_name": "ButtonStyleModel",
            "_view_count": null,
            "_view_module": "@jupyter-widgets/base",
            "_view_module_version": "1.2.0",
            "_view_name": "StyleView",
            "button_color": null,
            "font_weight": ""
          }
        }
      }
    }
  },
  "cells": [
    {
      "cell_type": "markdown",
      "metadata": {
        "id": "view-in-github",
        "colab_type": "text"
      },
      "source": [
        "<a href=\"https://colab.research.google.com/github/linomi/persian_carpet/blob/main/vae.ipynb\" target=\"_parent\"><img src=\"https://colab.research.google.com/assets/colab-badge.svg\" alt=\"Open In Colab\"/></a>"
      ]
    },
    {
      "cell_type": "markdown",
      "source": [
        "**legacy data loding.**\n",
        "\n",
        "using cv2 and resize to reduce dimension of the data. use if keras data loader is not working properly:"
      ],
      "metadata": {
        "id": "zny46TOXrFFN"
      }
    },
    {
      "cell_type": "code",
      "source": [
        "\"\"\"\n",
        "# loading data\n",
        "dataset = np.zeros((1818,256,256,3))\n",
        "for i in range(0,1818):\n",
        "  path = '/content/drive/MyDrive/data/'+ str(i)+ '.jpg'\n",
        "  img = cv2.imread(path,cv2.COLOR_BGR2RGB)\n",
        "  img = cv2.resize(img, (256, 256),interpolation = cv2.INTER_AREA)\n",
        "  img = np.array(img).astype('float16')\n",
        "  img = img/255\n",
        "  dataset[i] = img\n",
        "\"\"\""
      ],
      "metadata": {
        "id": "8Tw60NbMB9zR",
        "colab": {
          "base_uri": "https://localhost:8080/",
          "height": 88
        },
        "outputId": "82acc898-8251-4a1c-9616-ba5a0bd92607"
      },
      "execution_count": 1,
      "outputs": [
        {
          "output_type": "execute_result",
          "data": {
            "text/plain": [
              "\"\\n# loading data\\ndataset = np.zeros((1818,256,256,3))\\nfor i in range(0,1818):\\n  path = '/content/drive/MyDrive/data/'+ str(i)+ '.jpg'\\n  img = cv2.imread(path,cv2.COLOR_BGR2RGB)\\n  img = cv2.resize(img, (256, 256),interpolation = cv2.INTER_AREA)\\n  img = np.array(img).astype('float16')\\n  img = img/255\\n  dataset[i] = img\\n\""
            ],
            "application/vnd.google.colaboratory.intrinsic+json": {
              "type": "string"
            }
          },
          "metadata": {},
          "execution_count": 1
        }
      ]
    },
    {
      "cell_type": "markdown",
      "source": [
        "**importing stuff**"
      ],
      "metadata": {
        "id": "g4c3Z6tbrpcq"
      }
    },
    {
      "cell_type": "code",
      "source": [
        "import tensorflow as tf\n",
        "from tensorflow.keras.utils import image_dataset_from_directory as loadds\n",
        "from tensorflow.keras.layers import Input,Dense,Conv2D,UpSampling2D,MaxPooling2D,Flatten,ZeroPadding2D,Cropping2D,Conv2DTranspose,Reshape\n",
        "from tensorflow.keras.models import Model\n",
        "import numpy as np\n",
        "import cv2\n",
        "from matplotlib import pyplot as plt\n"
      ],
      "metadata": {
        "id": "sOUDrROo-XC_"
      },
      "execution_count": 2,
      "outputs": []
    },
    {
      "cell_type": "markdown",
      "source": [
        "**warninng:** data loading using keras data loader, keep the batch size small due to the sheer size of the model.\n",
        "free version of google colab would be enough\n"
      ],
      "metadata": {
        "id": "KP9IQ_2RrtiG"
      }
    },
    {
      "cell_type": "code",
      "source": [
        "# dataset\n",
        "dataset = tf.keras.utils.image_dataset_from_directory('/content/drive/MyDrive/data',\n",
        "                                            labels=None,\n",
        "                                            image_size= (256,256),\n",
        "                                            shuffle=True,\n",
        "                                            batch_size = 5,\n",
        "                                                    color_mode = 'rgb')\n",
        "def normalize(ds):\n",
        "  ds = tf.cast(ds/255.0,tf.float32)\n",
        "  return ds\n",
        "dataset = dataset.map(normalize)"
      ],
      "metadata": {
        "colab": {
          "base_uri": "https://localhost:8080/"
        },
        "id": "0HyWz1jQ51yY",
        "outputId": "33dd718d-229a-4749-c8cb-1db749f9a5bb"
      },
      "execution_count": 3,
      "outputs": [
        {
          "output_type": "stream",
          "name": "stdout",
          "text": [
            "Found 1818 files belonging to 1 classes.\n"
          ]
        }
      ]
    },
    {
      "cell_type": "code",
      "source": [
        "# latent space variables\n",
        "class Z_block(tf.keras.layers.Layer):\n",
        "    def call(self, inputs):\n",
        "        z_mean, z_log_var = inputs\n",
        "        batch = tf.shape(z_mean)[0]\n",
        "        dim = tf.shape(z_mean)[1]\n",
        "        epsilon = tf.keras.backend.random_normal(shape=(batch, dim))\n",
        "        return z_mean + tf.exp(0.5 * z_log_var) * epsilon"
      ],
      "metadata": {
        "id": "G_mKQAbzHIX6"
      },
      "execution_count": 4,
      "outputs": []
    },
    {
      "cell_type": "code",
      "source": [
        "latent_dim =2\n",
        "#encoder part\n",
        "encoder_in = Input(shape = (256,256,3))\n",
        "x = Conv2D(512,kernel_size = (10,10),padding = 'same',activation = 'elu',strides = 2)(encoder_in)\n",
        "x = Conv2D(256,kernel_size = (4,4),padding = 'same',activation = 'elu',strides = 2)(x)\n",
        "x = Conv2D(128,kernel_size = (4,4),padding = 'same',activation = 'elu',strides = 2)(x)\n",
        "x = Conv2D(128,kernel_size = (4,4),padding = 'same',activation = 'elu',strides = 2)(x)\n",
        "x = Flatten()(x)\n",
        "x = Dense(16,activation = 'elu')(x)\n",
        "z_mean = Dense(latent_dim, name=\"z_mean\")(x)\n",
        "z_log_var = Dense(latent_dim, name=\"z_log_var\")(x)\n",
        "z = Z_block()([z_mean, z_log_var])\n",
        "encoder = Model(encoder_in, [z_mean, z_log_var, z], name=\"encoder\")\n",
        "encoder.summary()"
      ],
      "metadata": {
        "colab": {
          "base_uri": "https://localhost:8080/"
        },
        "id": "YZUFV5clEK7O",
        "outputId": "aaa576c1-b9a4-4179-b4fa-f2ccbbfc4ee2"
      },
      "execution_count": 5,
      "outputs": [
        {
          "output_type": "stream",
          "name": "stdout",
          "text": [
            "Model: \"encoder\"\n",
            "__________________________________________________________________________________________________\n",
            " Layer (type)                   Output Shape         Param #     Connected to                     \n",
            "==================================================================================================\n",
            " input_1 (InputLayer)           [(None, 256, 256, 3  0           []                               \n",
            "                                )]                                                                \n",
            "                                                                                                  \n",
            " conv2d (Conv2D)                (None, 128, 128, 51  154112      ['input_1[0][0]']                \n",
            "                                2)                                                                \n",
            "                                                                                                  \n",
            " conv2d_1 (Conv2D)              (None, 64, 64, 256)  2097408     ['conv2d[0][0]']                 \n",
            "                                                                                                  \n",
            " conv2d_2 (Conv2D)              (None, 32, 32, 128)  524416      ['conv2d_1[0][0]']               \n",
            "                                                                                                  \n",
            " conv2d_3 (Conv2D)              (None, 16, 16, 128)  262272      ['conv2d_2[0][0]']               \n",
            "                                                                                                  \n",
            " flatten (Flatten)              (None, 32768)        0           ['conv2d_3[0][0]']               \n",
            "                                                                                                  \n",
            " dense (Dense)                  (None, 16)           524304      ['flatten[0][0]']                \n",
            "                                                                                                  \n",
            " z_mean (Dense)                 (None, 2)            34          ['dense[0][0]']                  \n",
            "                                                                                                  \n",
            " z_log_var (Dense)              (None, 2)            34          ['dense[0][0]']                  \n",
            "                                                                                                  \n",
            " z_block (Z_block)              (None, 2)            0           ['z_mean[0][0]',                 \n",
            "                                                                  'z_log_var[0][0]']              \n",
            "                                                                                                  \n",
            "==================================================================================================\n",
            "Total params: 3,562,580\n",
            "Trainable params: 3,562,580\n",
            "Non-trainable params: 0\n",
            "__________________________________________________________________________________________________\n"
          ]
        }
      ]
    },
    {
      "cell_type": "code",
      "source": [
        "# decoder part\n",
        "latent_out = Input(shape=(latent_dim,))\n",
        "x = Dense(16*16*16,activation = 'elu')(latent_out)\n",
        "x = Reshape((16,16,16))(x)\n",
        "x = Conv2DTranspose(512,kernel_size = (4,4),padding = 'same',activation = 'relu',strides = 2)(x)\n",
        "x = Conv2DTranspose(256,kernel_size = (4,4),padding = 'same',activation = 'relu',strides = 2)(x)\n",
        "x = Conv2DTranspose(128,kernel_size = (4,4),padding = 'same',activation = 'relu',strides = 2)(x)\n",
        "x = Conv2DTranspose(128,kernel_size = (4,4),padding = 'same',activation = 'relu',strides = 2)(x)\n",
        "\n",
        "x = Conv2DTranspose(3,kernel_size = (4,4),padding = 'same',activation = 'sigmoid',strides = 1)(x)\n",
        "decoder = Model(latent_out,x,name = 'decoder')\n",
        "decoder.summary()\n"
      ],
      "metadata": {
        "colab": {
          "base_uri": "https://localhost:8080/"
        },
        "id": "8dTd_jShILbL",
        "outputId": "f1872b69-8a27-4ff9-f695-7fc6177d7272"
      },
      "execution_count": 6,
      "outputs": [
        {
          "output_type": "stream",
          "name": "stdout",
          "text": [
            "Model: \"decoder\"\n",
            "_________________________________________________________________\n",
            " Layer (type)                Output Shape              Param #   \n",
            "=================================================================\n",
            " input_2 (InputLayer)        [(None, 2)]               0         \n",
            "                                                                 \n",
            " dense_1 (Dense)             (None, 4096)              12288     \n",
            "                                                                 \n",
            " reshape (Reshape)           (None, 16, 16, 16)        0         \n",
            "                                                                 \n",
            " conv2d_transpose (Conv2DTra  (None, 32, 32, 512)      131584    \n",
            " nspose)                                                         \n",
            "                                                                 \n",
            " conv2d_transpose_1 (Conv2DT  (None, 64, 64, 256)      2097408   \n",
            " ranspose)                                                       \n",
            "                                                                 \n",
            " conv2d_transpose_2 (Conv2DT  (None, 128, 128, 128)    524416    \n",
            " ranspose)                                                       \n",
            "                                                                 \n",
            " conv2d_transpose_3 (Conv2DT  (None, 256, 256, 128)    262272    \n",
            " ranspose)                                                       \n",
            "                                                                 \n",
            " conv2d_transpose_4 (Conv2DT  (None, 256, 256, 3)      6147      \n",
            " ranspose)                                                       \n",
            "                                                                 \n",
            "=================================================================\n",
            "Total params: 3,034,115\n",
            "Trainable params: 3,034,115\n",
            "Non-trainable params: 0\n",
            "_________________________________________________________________\n"
          ]
        }
      ]
    },
    {
      "cell_type": "code",
      "source": [
        "class VAE(tf.keras.Model):\n",
        "    def __init__(self, encoder, decoder, **kwargs):\n",
        "        super(VAE, self).__init__(**kwargs)\n",
        "        self.encoder = encoder\n",
        "        self.decoder = decoder\n",
        "        self.total_loss_tracker = tf.keras.metrics.Mean(name=\"total_loss\")\n",
        "        self.reconstruction_loss_tracker = tf.keras.metrics.Mean(\n",
        "            name=\"reconstruction_loss\"\n",
        "        )\n",
        "        self.kl_loss_tracker = tf.keras.metrics.Mean(name=\"kl_loss\")\n",
        "\n",
        "    @property\n",
        "    def metrics(self):\n",
        "        return [\n",
        "            self.total_loss_tracker,\n",
        "            self.reconstruction_loss_tracker,\n",
        "            self.kl_loss_tracker,\n",
        "        ]\n",
        "\n",
        "    def train_step(self, data):\n",
        "        with tf.GradientTape() as tape:\n",
        "            z_mean, z_log_var, z = self.encoder(data)\n",
        "            reconstruction = self.decoder(z)\n",
        "            reconstruction_loss = tf.keras.losses.mae(data, reconstruction)\n",
        "            kl_loss = -0.5 * (1 + z_log_var - tf.square(z_mean) - tf.exp(z_log_var))\n",
        "            kl_loss = tf.reduce_mean(tf.reduce_sum(kl_loss, axis=1))\n",
        "            total_loss = reconstruction_loss + kl_loss\n",
        "        grads = tape.gradient(total_loss, self.trainable_weights)\n",
        "        self.optimizer.apply_gradients(zip(grads, self.trainable_weights))\n",
        "        self.total_loss_tracker.update_state(total_loss)\n",
        "        self.reconstruction_loss_tracker.update_state(reconstruction_loss)\n",
        "        self.kl_loss_tracker.update_state(kl_loss)\n",
        "        return {\n",
        "            \"loss\": self.total_loss_tracker.result(),\n",
        "            \"reconstruction_loss\": self.reconstruction_loss_tracker.result(),\n",
        "            \"kl_loss\": self.kl_loss_tracker.result(),\n",
        "        }\n"
      ],
      "metadata": {
        "id": "TUUPk-rX-jqJ"
      },
      "execution_count": 7,
      "outputs": []
    },
    {
      "cell_type": "code",
      "source": [
        "vae = VAE(encoder, decoder)\n",
        "vae.compile(optimizer=tf.keras.optimizers.Adam(0.00001))\n"
      ],
      "metadata": {
        "id": "xNUhKS8TU3vA"
      },
      "execution_count": 8,
      "outputs": []
    },
    {
      "cell_type": "code",
      "source": [
        "vae.fit(dataset,epochs =10 )"
      ],
      "metadata": {
        "colab": {
          "base_uri": "https://localhost:8080/"
        },
        "id": "EzdAZTIFNN15",
        "outputId": "aaff9fcf-74e5-43ed-a2f2-96524b708a43"
      },
      "execution_count": 9,
      "outputs": [
        {
          "output_type": "stream",
          "name": "stdout",
          "text": [
            "Epoch 1/10\n",
            "364/364 [==============================] - 90s 215ms/step - loss: 0.3296 - reconstruction_loss: 0.3150 - kl_loss: 0.0018\n",
            "Epoch 2/10\n",
            "364/364 [==============================] - 76s 208ms/step - loss: 0.3003 - reconstruction_loss: 0.2852 - kl_loss: 8.3585e-04\n",
            "Epoch 3/10\n",
            "364/364 [==============================] - 77s 210ms/step - loss: 0.2375 - reconstruction_loss: 0.2308 - kl_loss: 7.0605e-04\n",
            "Epoch 4/10\n",
            "364/364 [==============================] - 76s 208ms/step - loss: 0.2226 - reconstruction_loss: 0.2181 - kl_loss: 5.0408e-04\n",
            "Epoch 5/10\n",
            "364/364 [==============================] - 76s 207ms/step - loss: 0.2117 - reconstruction_loss: 0.2067 - kl_loss: 3.5733e-04\n",
            "Epoch 6/10\n",
            "364/364 [==============================] - 76s 207ms/step - loss: 0.1982 - reconstruction_loss: 0.1933 - kl_loss: 2.7654e-04\n",
            "Epoch 7/10\n",
            "364/364 [==============================] - 76s 208ms/step - loss: 0.1885 - reconstruction_loss: 0.1856 - kl_loss: 2.1880e-04\n",
            "Epoch 8/10\n",
            "364/364 [==============================] - 76s 208ms/step - loss: 0.1865 - reconstruction_loss: 0.1837 - kl_loss: 1.9756e-04\n",
            "Epoch 9/10\n",
            "364/364 [==============================] - 76s 207ms/step - loss: 0.1853 - reconstruction_loss: 0.1831 - kl_loss: 2.1288e-04\n",
            "Epoch 10/10\n",
            "364/364 [==============================] - 76s 208ms/step - loss: 0.1853 - reconstruction_loss: 0.1832 - kl_loss: 1.8080e-04\n"
          ]
        },
        {
          "output_type": "execute_result",
          "data": {
            "text/plain": [
              "<keras.callbacks.History at 0x7f1c44305ba0>"
            ]
          },
          "metadata": {},
          "execution_count": 9
        }
      ]
    },
    {
      "cell_type": "code",
      "source": [
        "c = vae.encoder.predict(dataset)"
      ],
      "metadata": {
        "id": "2G-JUVEWGBMo",
        "outputId": "379f1f17-5dd5-4bd7-9033-f2d85f8dd9e7",
        "colab": {
          "base_uri": "https://localhost:8080/"
        }
      },
      "execution_count": 10,
      "outputs": [
        {
          "output_type": "stream",
          "name": "stdout",
          "text": [
            "364/364 [==============================] - 13s 34ms/step\n"
          ]
        }
      ]
    },
    {
      "cell_type": "code",
      "source": [
        "c.shape"
      ],
      "metadata": {
        "id": "U2LhQzzxGyz5",
        "outputId": "1a461cc5-36b1-4edb-f4ab-e4632f2220cf",
        "colab": {
          "base_uri": "https://localhost:8080/",
          "height": 165
        }
      },
      "execution_count": 11,
      "outputs": [
        {
          "output_type": "error",
          "ename": "AttributeError",
          "evalue": "ignored",
          "traceback": [
            "\u001b[0;31m---------------------------------------------------------------------------\u001b[0m",
            "\u001b[0;31mAttributeError\u001b[0m                            Traceback (most recent call last)",
            "\u001b[0;32m<ipython-input-11-d6049491b182>\u001b[0m in \u001b[0;36m<cell line: 1>\u001b[0;34m()\u001b[0m\n\u001b[0;32m----> 1\u001b[0;31m \u001b[0mc\u001b[0m\u001b[0;34m.\u001b[0m\u001b[0mshape\u001b[0m\u001b[0;34m\u001b[0m\u001b[0;34m\u001b[0m\u001b[0m\n\u001b[0m",
            "\u001b[0;31mAttributeError\u001b[0m: 'list' object has no attribute 'shape'"
          ]
        }
      ]
    },
    {
      "cell_type": "code",
      "source": [],
      "metadata": {
        "id": "6RoGWxkQHXAA"
      },
      "execution_count": null,
      "outputs": []
    },
    {
      "cell_type": "code",
      "source": [
        "fig = plt.figure(figsize=(12, 12))\n",
        "ax = fig.add_subplot(projection='3d')\n",
        "ax.scatter(c[2,:,0],c[2,:,1],c[2,:,2])"
      ],
      "metadata": {
        "id": "FiAasE2dGNIk"
      },
      "execution_count": null,
      "outputs": []
    },
    {
      "cell_type": "code",
      "source": [
        "from IPython.display import display\n",
        "import ipywidgets as widgets\n",
        "from IPython.display import display, Image, clear_output\n",
        "\n",
        "plt.figure(figsize= (20,20))\n",
        "def func(sliders):\n",
        "    # Clear the previous image\n",
        "    clear_output(wait=True)\n",
        "    z_input = np.ones((1, latent_dim))\n",
        "    for i, slider in enumerate(sliders):\n",
        "        z_input[0, i] = slider.value\n",
        "\n",
        "    out_pic = vae.decoder.predict(z_input, verbose=False)\n",
        "    display(*sliders,button)\n",
        "    # Display the new image\n",
        "    plt.figure(figsize= (10,10))\n",
        "    plt.imshow(out_pic[0])\n",
        "    plt.axis('off')\n",
        "    plt.show()\n",
        "\n",
        "\n",
        "s = []\n",
        "for dim in range(1,latent_dim+1):\n",
        "  w = widgets.FloatSlider(\n",
        "    value=0,\n",
        "    min=-3,\n",
        "    max=3,\n",
        "    step=0.01,\n",
        "    description='dimension'+str(dim),\n",
        "    disabled=False,\n",
        "    continuous_update=False,\n",
        "    orientation='horizontal',\n",
        "    readout=True,\n",
        "    readout_format='.6f',\n",
        "    layout=widgets.Layout(width='80%')\n",
        "  )\n",
        "  display(w)\n",
        "  s.append(w)\n",
        "button = widgets.Button(description=\"Execute\")\n",
        "button.on_click(lambda _: func(s))\n",
        "display(button)\n"
      ],
      "metadata": {
        "colab": {
          "base_uri": "https://localhost:8080/",
          "height": 756,
          "referenced_widgets": [
            "8fc6fe9e5a3f49e8bf29c52963c3619b",
            "0ed037b3bc644e11b39f0cb1943e4fcf",
            "2f73f50f3d344c42801df17b77964cfa",
            "6f784a3a908e4cd1b034fb21bc665800",
            "289bde098993475c8c7b5037a9ec9548",
            "04f5d9c8f7954861b22dc27ff189e5f5",
            "4c18b7d8e87e490d8fa7f7879aca39d7",
            "50040b624d724d919b5a477b56e2363c",
            "2055c45efcf646a3ae5d51a3330ae725"
          ]
        },
        "id": "k-8kuTcztT1S",
        "outputId": "11b881a3-1e3c-4c35-f5ac-bd750cb63ff3"
      },
      "execution_count": 12,
      "outputs": [
        {
          "output_type": "display_data",
          "data": {
            "text/plain": [
              "FloatSlider(value=-1.85, continuous_update=False, description='dimension1', layout=Layout(width='80%'), max=3.…"
            ],
            "application/vnd.jupyter.widget-view+json": {
              "version_major": 2,
              "version_minor": 0,
              "model_id": "8fc6fe9e5a3f49e8bf29c52963c3619b"
            }
          },
          "metadata": {}
        },
        {
          "output_type": "display_data",
          "data": {
            "text/plain": [
              "FloatSlider(value=2.44, continuous_update=False, description='dimension2', layout=Layout(width='80%'), max=3.0…"
            ],
            "application/vnd.jupyter.widget-view+json": {
              "version_major": 2,
              "version_minor": 0,
              "model_id": "6f784a3a908e4cd1b034fb21bc665800"
            }
          },
          "metadata": {}
        },
        {
          "output_type": "display_data",
          "data": {
            "text/plain": [
              "Button(description='Execute', style=ButtonStyle())"
            ],
            "application/vnd.jupyter.widget-view+json": {
              "version_major": 2,
              "version_minor": 0,
              "model_id": "4c18b7d8e87e490d8fa7f7879aca39d7"
            }
          },
          "metadata": {}
        },
        {
          "output_type": "display_data",
          "data": {
            "text/plain": [
              "<Figure size 1000x1000 with 1 Axes>"
            ],
            "image/png": "[encoded data removed]"
          },
          "metadata": {}
        }
      ]
    }
  ]
}