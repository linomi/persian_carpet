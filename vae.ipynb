{
  "nbformat": 4,
  "nbformat_minor": 0,
  "metadata": {
    "colab": {
      "provenance": [],
      "gpuType": "T4",
      "mount_file_id": "13a5dJjY0SC3CRqF4by2kKB9-i665hzVf",
      "authorship_tag": "ABX9TyMkewn24cff4fkxX58MAE4a",
      "include_colab_link": true
    },
    "kernelspec": {
      "name": "python3",
      "display_name": "Python 3"
    },
    "language_info": {
      "name": "python"
    },
    "accelerator": "GPU"
  },
  "cells": [
    {
      "cell_type": "markdown",
      "metadata": {
        "id": "view-in-github",
        "colab_type": "text"
      },
      "source": [
        "<a href=\"https://colab.research.google.com/github/linomi/persian_carpet/blob/main/vae.ipynb\" target=\"_parent\"><img src=\"https://colab.research.google.com/assets/colab-badge.svg\" alt=\"Open In Colab\"/></a>"
      ]
    },
    {
      "cell_type": "markdown",
      "source": [
        "**legacy data loding.**\n",
        "\n",
        "using cv2 and resize to reduce dimension of the data. use if keras data loader is not working properly:"
      ],
      "metadata": {
        "id": "zny46TOXrFFN"
      }
    },
    {
      "cell_type": "code",
      "source": [
        "# loading data\n",
        "dataset = np.zeros((1818,256,256,3))\n",
        "for i in range(0,1818):\n",
        "  path = '/content/drive/MyDrive/data/'+ str(i)+ '.jpg'\n",
        "  img = cv2.imread(path,cv2.COLOR_BGR2RGB)\n",
        "  img = cv2.resize(img, (256, 256),interpolation = cv2.INTER_AREA)\n",
        "  img = np.array(img).astype('float16')\n",
        "  img = img/255\n",
        "  dataset[i] = img"
      ],
      "metadata": {
        "id": "8Tw60NbMB9zR"
      },
      "execution_count": null,
      "outputs": []
    },
    {
      "cell_type": "markdown",
      "source": [
        "**importing stuff**"
      ],
      "metadata": {
        "id": "g4c3Z6tbrpcq"
      }
    },
    {
      "cell_type": "code",
      "source": [
        "import tensorflow as tf\n",
        "from tensorflow.keras.utils import image_dataset_from_directory as loadds\n",
        "from tensorflow.keras.layers import Input,Dense,Conv2D,UpSampling2D,MaxPooling2D,Flatten,ZeroPadding2D,Cropping2D,Conv2DTranspose,Reshape\n",
        "from tensorflow.keras.models import Model\n",
        "import numpy as np\n",
        "import cv2\n",
        "from matplotlib import pyplot as plt\n"
      ],
      "metadata": {
        "id": "sOUDrROo-XC_"
      },
      "execution_count": null,
      "outputs": []
    },
    {
      "cell_type": "markdown",
      "source": [
        "**warninng:** data loading using keras data loader, keep the batch size small due to the sheer size of the model.\n",
        "free version of google colab would be enough\n"
      ],
      "metadata": {
        "id": "KP9IQ_2RrtiG"
      }
    },
    {
      "cell_type": "code",
      "source": [
        "# dataset\n",
        "dataset = tf.keras.utils.image_dataset_from_directory('/content/drive/MyDrive/data',\n",
        "                                            labels=None,\n",
        "                                            image_size= (256,256),\n",
        "                                            shuffle=True,\n",
        "                                            batch_size = 5,\n",
        "                                                    color_mode = 'rgb')\n",
        "def normalize(ds):\n",
        "  ds = tf.cast(ds/255.0,tf.float32)\n",
        "  return ds\n",
        "dataset = dataset.map(normalize)"
      ],
      "metadata": {
        "colab": {
          "base_uri": "https://localhost:8080/"
        },
        "id": "0HyWz1jQ51yY",
        "outputId": "d50413f2-014f-485e-a037-790270ecca32"
      },
      "execution_count": null,
      "outputs": [
        {
          "output_type": "stream",
          "name": "stdout",
          "text": [
            "Found 1818 files belonging to 1 classes.\n"
          ]
        }
      ]
    },
    {
      "cell_type": "code",
      "source": [
        "# latent space variables\n",
        "class Z_block(tf.keras.layers.Layer):\n",
        "    def call(self, inputs):\n",
        "        z_mean, z_log_var = inputs\n",
        "        batch = tf.shape(z_mean)[0]\n",
        "        dim = tf.shape(z_mean)[1]\n",
        "        epsilon = tf.keras.backend.random_normal(shape=(batch, dim))\n",
        "        return z_mean + tf.exp(0.5 * z_log_var) * epsilon"
      ],
      "metadata": {
        "id": "G_mKQAbzHIX6"
      },
      "execution_count": null,
      "outputs": []
    },
    {
      "cell_type": "code",
      "source": [
        "latent_dim =2\n",
        "#encoder part\n",
        "encoder_in = Input(shape = (256,256,3))\n",
        "x = Conv2D(512,kernel_size = (3,3),padding = 'same',activation = 'elu',strides = 2)(encoder_in)\n",
        "x = Conv2D(256,kernel_size = (3,3),padding = 'same',activation = 'elu',strides = 2)(x)\n",
        "x = Conv2D(128,kernel_size = (3,3),padding = 'same',activation = 'elu',strides = 2)(x)\n",
        "x = Conv2D(128,kernel_size = (3,3),padding = 'same',activation = 'elu',strides = 2)(x)\n",
        "x = Flatten()(x)\n",
        "x = Dense(16,activation = 'elu')(x)\n",
        "z_mean = Dense(latent_dim, name=\"z_mean\")(x)\n",
        "z_log_var = Dense(latent_dim, name=\"z_log_var\")(x)\n",
        "z = Z_block()([z_mean, z_log_var])\n",
        "encoder = Model(encoder_in, [z_mean, z_log_var, z], name=\"encoder\")\n",
        "encoder.summary()"
      ],
      "metadata": {
        "colab": {
          "base_uri": "https://localhost:8080/"
        },
        "id": "YZUFV5clEK7O",
        "outputId": "2f3ebb22-3599-4e70-d3a7-6036cf8a229c"
      },
      "execution_count": null,
      "outputs": [
        {
          "output_type": "stream",
          "name": "stdout",
          "text": [
            "Model: \"encoder\"\n",
            "__________________________________________________________________________________________________\n",
            " Layer (type)                   Output Shape         Param #     Connected to                     \n",
            "==================================================================================================\n",
            " input_3 (InputLayer)           [(None, 256, 256, 3  0           []                               \n",
            "                                )]                                                                \n",
            "                                                                                                  \n",
            " conv2d_4 (Conv2D)              (None, 128, 128, 51  14336       ['input_3[0][0]']                \n",
            "                                2)                                                                \n",
            "                                                                                                  \n",
            " conv2d_5 (Conv2D)              (None, 64, 64, 256)  1179904     ['conv2d_4[0][0]']               \n",
            "                                                                                                  \n",
            " conv2d_6 (Conv2D)              (None, 32, 32, 128)  295040      ['conv2d_5[0][0]']               \n",
            "                                                                                                  \n",
            " conv2d_7 (Conv2D)              (None, 16, 16, 128)  147584      ['conv2d_6[0][0]']               \n",
            "                                                                                                  \n",
            " flatten_1 (Flatten)            (None, 32768)        0           ['conv2d_7[0][0]']               \n",
            "                                                                                                  \n",
            " dense_2 (Dense)                (None, 16)           524304      ['flatten_1[0][0]']              \n",
            "                                                                                                  \n",
            " z_mean (Dense)                 (None, 2)            34          ['dense_2[0][0]']                \n",
            "                                                                                                  \n",
            " z_log_var (Dense)              (None, 2)            34          ['dense_2[0][0]']                \n",
            "                                                                                                  \n",
            " z_block_1 (Z_block)            (None, 2)            0           ['z_mean[0][0]',                 \n",
            "                                                                  'z_log_var[0][0]']              \n",
            "                                                                                                  \n",
            "==================================================================================================\n",
            "Total params: 2,161,236\n",
            "Trainable params: 2,161,236\n",
            "Non-trainable params: 0\n",
            "__________________________________________________________________________________________________\n"
          ]
        }
      ]
    },
    {
      "cell_type": "code",
      "source": [
        "# decoder part\n",
        "latent_out = Input(shape=(latent_dim,))\n",
        "x = Dense(16*16*16,activation = 'elu')(latent_out)\n",
        "x = Reshape((16,16,16))(x)\n",
        "x = Conv2DTranspose(512,kernel_size = (4,4),padding = 'same',activation = 'relu',strides = 2)(x)\n",
        "x = Conv2DTranspose(256,kernel_size = (4,4),padding = 'same',activation = 'relu',strides = 2)(x)\n",
        "x = Conv2DTranspose(128,kernel_size = (4,4),padding = 'same',activation = 'relu',strides = 2)(x)\n",
        "x = Conv2DTranspose(128,kernel_size = (4,4),padding = 'same',activation = 'relu',strides = 2)(x)\n",
        "\n",
        "x = Conv2DTranspose(3,kernel_size = (4,4),padding = 'same',activation = 'elu',strides = 1)(x)\n",
        "decoder = Model(latent_out,x,name = 'decoder')\n",
        "decoder.summary()\n"
      ],
      "metadata": {
        "colab": {
          "base_uri": "https://localhost:8080/"
        },
        "id": "8dTd_jShILbL",
        "outputId": "cd1672a0-a718-467b-d2ea-d5f27c89c4d9"
      },
      "execution_count": null,
      "outputs": [
        {
          "output_type": "stream",
          "name": "stdout",
          "text": [
            "Model: \"decoder\"\n",
            "_________________________________________________________________\n",
            " Layer (type)                Output Shape              Param #   \n",
            "=================================================================\n",
            " input_5 (InputLayer)        [(None, 2)]               0         \n",
            "                                                                 \n",
            " dense_4 (Dense)             (None, 4096)              12288     \n",
            "                                                                 \n",
            " reshape_2 (Reshape)         (None, 16, 16, 16)        0         \n",
            "                                                                 \n",
            " conv2d_transpose_10 (Conv2D  (None, 32, 32, 512)      131584    \n",
            " Transpose)                                                      \n",
            "                                                                 \n",
            " conv2d_transpose_11 (Conv2D  (None, 64, 64, 256)      2097408   \n",
            " Transpose)                                                      \n",
            "                                                                 \n",
            " conv2d_transpose_12 (Conv2D  (None, 128, 128, 128)    524416    \n",
            " Transpose)                                                      \n",
            "                                                                 \n",
            " conv2d_transpose_13 (Conv2D  (None, 256, 256, 128)    262272    \n",
            " Transpose)                                                      \n",
            "                                                                 \n",
            " conv2d_transpose_14 (Conv2D  (None, 256, 256, 3)      6147      \n",
            " Transpose)                                                      \n",
            "                                                                 \n",
            "=================================================================\n",
            "Total params: 3,034,115\n",
            "Trainable params: 3,034,115\n",
            "Non-trainable params: 0\n",
            "_________________________________________________________________\n"
          ]
        }
      ]
    },
    {
      "cell_type": "code",
      "source": [
        "class VAE(tf.keras.Model):\n",
        "    def __init__(self, encoder, decoder, **kwargs):\n",
        "        super(VAE, self).__init__(**kwargs)\n",
        "        self.encoder = encoder\n",
        "        self.decoder = decoder\n",
        "        self.total_loss_tracker = tf.keras.metrics.Mean(name=\"total_loss\")\n",
        "        self.reconstruction_loss_tracker = tf.keras.metrics.Mean(\n",
        "            name=\"reconstruction_loss\"\n",
        "        )\n",
        "        self.kl_loss_tracker = tf.keras.metrics.Mean(name=\"kl_loss\")\n",
        "\n",
        "    @property\n",
        "    def metrics(self):\n",
        "        return [\n",
        "            self.total_loss_tracker,\n",
        "            self.reconstruction_loss_tracker,\n",
        "            self.kl_loss_tracker,\n",
        "        ]\n",
        "\n",
        "    def train_step(self, data):\n",
        "        with tf.GradientTape() as tape:\n",
        "            z_mean, z_log_var, z = self.encoder(data)\n",
        "            reconstruction = self.decoder(z)\n",
        "            reconstruction_loss = tf.keras.losses.mae(data, reconstruction)\n",
        "            kl_loss = -0.5 * (1 + z_log_var - tf.square(z_mean) - tf.exp(z_log_var))\n",
        "            kl_loss = tf.reduce_mean(tf.reduce_sum(kl_loss, axis=1))\n",
        "            total_loss = reconstruction_loss + kl_loss\n",
        "        grads = tape.gradient(total_loss, self.trainable_weights)\n",
        "        self.optimizer.apply_gradients(zip(grads, self.trainable_weights))\n",
        "        self.total_loss_tracker.update_state(total_loss)\n",
        "        self.reconstruction_loss_tracker.update_state(reconstruction_loss)\n",
        "        self.kl_loss_tracker.update_state(kl_loss)\n",
        "        return {\n",
        "            \"loss\": self.total_loss_tracker.result(),\n",
        "            \"reconstruction_loss\": self.reconstruction_loss_tracker.result(),\n",
        "            \"kl_loss\": self.kl_loss_tracker.result(),\n",
        "        }\n"
      ],
      "metadata": {
        "id": "TUUPk-rX-jqJ"
      },
      "execution_count": null,
      "outputs": []
    },
    {
      "cell_type": "code",
      "source": [
        "vae = VAE(encoder, decoder)\n",
        "vae.compile(optimizer=tf.keras.optimizers.Adam())\n"
      ],
      "metadata": {
        "id": "xNUhKS8TU3vA"
      },
      "execution_count": null,
      "outputs": []
    },
    {
      "cell_type": "code",
      "source": [
        "vae.fit(dataset,epochs =2 )"
      ],
      "metadata": {
        "colab": {
          "base_uri": "https://localhost:8080/"
        },
        "id": "EzdAZTIFNN15",
        "outputId": "1df31db3-a6f7-42cc-d6a7-b9952aa3f8b3"
      },
      "execution_count": null,
      "outputs": [
        {
          "output_type": "stream",
          "name": "stdout",
          "text": [
            "Epoch 1/2\n",
            "364/364 [==============================] - 69s 157ms/step - loss: 13.6118 - reconstruction_loss: 0.2209 - kl_loss: 3.5278\n",
            "Epoch 2/2\n",
            "364/364 [==============================] - 57s 157ms/step - loss: 0.2465 - reconstruction_loss: 0.1918 - kl_loss: 0.0233\n"
          ]
        },
        {
          "output_type": "execute_result",
          "data": {
            "text/plain": [
              "<keras.callbacks.History at 0x7fce700dd330>"
            ]
          },
          "metadata": {},
          "execution_count": 13
        }
      ]
    },
    {
      "cell_type": "code",
      "source": [
        "\n"
      ],
      "metadata": {
        "colab": {
          "base_uri": "https://localhost:8080/"
        },
        "id": "eOhgT-NmGN1d",
        "outputId": "f5c0bd99-d363-4daf-9f3b-a3e60d97a611"
      },
      "execution_count": null,
      "outputs": [
        {
          "output_type": "stream",
          "name": "stdout",
          "text": [
            "364/364 [==============================] - 15s 41ms/step\n"
          ]
        }
      ]
    },
    {
      "cell_type": "code",
      "source": [
        "\n",
        "\n"
      ],
      "metadata": {
        "colab": {
          "base_uri": "https://localhost:8080/",
          "height": 447
        },
        "id": "LUCEGRAOGgUQ",
        "outputId": "8456fe22-b7d9-43cf-c188-ec8c7eb28059"
      },
      "execution_count": null,
      "outputs": [
        {
          "output_type": "execute_result",
          "data": {
            "text/plain": [
              "<matplotlib.collections.PathCollection at 0x7fce8c22a7d0>"
            ]
          },
          "metadata": {},
          "execution_count": 24
        },
        {
          "output_type": "display_data",
          "data": {
            "text/plain": [
              "<Figure size 640x480 with 1 Axes>"
            ],
            "image/png": "[encoded data removed]"
          },
          "metadata": {}
        }
      ]
    },
    {
      "cell_type": "code",
      "source": [
        "for x in dataset:\n",
        "  break"
      ],
      "metadata": {
        "id": "cV_b2U4GGUwU"
      },
      "execution_count": null,
      "outputs": []
    }
  ]
}